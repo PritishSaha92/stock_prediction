{
 "cells": [
  {
   "cell_type": "code",
   "execution_count": 1,
   "metadata": {},
   "outputs": [],
   "source": [
    "import datetime as DT\n",
    "import pandas as pd\n",
    "import numpy as np\n"
   ]
  },
  {
   "cell_type": "code",
   "execution_count": 3,
   "metadata": {},
   "outputs": [],
   "source": [
    "all_df = pd.read_csv('data/historical_stock_prices.csv', header=0, parse_dates=[-1])"
   ]
  },
  {
   "cell_type": "code",
   "execution_count": 49,
   "metadata": {},
   "outputs": [],
   "source": [
    "def extract_ticker(in_df, ticker, start_date, end_date):\n",
    "    t_df = in_df[in_df['ticker']==ticker]\n",
    "    out_df = t_df[(t_df['date']>= start_date) & (t_df['date']<= end_date)].copy()\n",
    "    out_df.drop('ticker',axis=1, inplace=True)\n",
    "    base_path = 'data/'\n",
    "    filename = base_path+ticker+'.csv'\n",
    "    out_df.to_csv(filename,index=False)\n",
    "    return out_df"
   ]
  },
  {
   "cell_type": "code",
   "execution_count": 11,
   "metadata": {},
   "outputs": [],
   "source": [
    "# Change Start date and end date\n",
    "start_date = DT.datetime(2009,1,1)\n",
    "end_date = DT.datetime(2017,12,31)"
   ]
  },
  {
   "cell_type": "code",
   "execution_count": 14,
   "metadata": {},
   "outputs": [
    {
     "name": "stderr",
     "output_type": "stream",
     "text": [
      "d:\\python36\\lib\\site-packages\\ipykernel_launcher.py:4: SettingWithCopyWarning: \n",
      "A value is trying to be set on a copy of a slice from a DataFrame\n",
      "\n",
      "See the caveats in the documentation: http://pandas.pydata.org/pandas-docs/stable/indexing.html#indexing-view-versus-copy\n",
      "  after removing the cwd from sys.path.\n"
     ]
    }
   ],
   "source": [
    "# Extract what you need here\n",
    "goog_df = extract_ticker(all_df,'GOOG',start_date,end_date)"
   ]
  },
  {
   "cell_type": "code",
   "execution_count": 48,
   "metadata": {},
   "outputs": [],
   "source": [
    "fin50 = np.genfromtxt('finance50.txt',dtype='str')"
   ]
  },
  {
   "cell_type": "code",
   "execution_count": 50,
   "metadata": {},
   "outputs": [],
   "source": [
    "for i in range(0,len(fin50)):\n",
    "    stock = fin50[i]\n",
    "    stock_df = extract_ticker(all_df,stock,start_date,end_date)\n",
    "    close_df = stock_df[['date', 'close']].copy()\n",
    "    close_df.rename(columns={'date': 'date', 'close': stock}, inplace=True)\n",
    "    if i == 0:\n",
    "        fin_df = close_df.copy()\n",
    "    else:\n",
    "        fin_df = fin_df.merge(close_df, how='left', on='date', copy=True)"
   ]
  },
  {
   "cell_type": "code",
   "execution_count": 53,
   "metadata": {},
   "outputs": [],
   "source": [
    "fin_df.to_csv('finance50.csv',index=False)"
   ]
  },
  {
   "cell_type": "code",
   "execution_count": null,
   "metadata": {},
   "outputs": [],
   "source": []
  }
 ],
 "metadata": {
  "kernelspec": {
   "display_name": "Python 3",
   "language": "python",
   "name": "python3"
  },
  "language_info": {
   "codemirror_mode": {
    "name": "ipython",
    "version": 3
   },
   "file_extension": ".py",
   "mimetype": "text/x-python",
   "name": "python",
   "nbconvert_exporter": "python",
   "pygments_lexer": "ipython3",
   "version": "3.6.4"
  }
 },
 "nbformat": 4,
 "nbformat_minor": 2
}
